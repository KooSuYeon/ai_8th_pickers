{
 "cells": [
  {
   "cell_type": "markdown",
   "id": "0d0f2210-713e-4ae6-b03a-96e050f20910",
   "metadata": {},
   "source": [
    "1. 필요한 라이브러리, 모듈 가져오기"
   ]
  },
  {
   "cell_type": "code",
   "execution_count": 33,
   "id": "9b319ca5-3438-473a-bc4b-84f2548f8581",
   "metadata": {},
   "outputs": [],
   "source": [
    "import torch\n",
    "import torch.optim as optim\n",
    "import torch.nn as nn\n",
    "from torchtext.vocab import Vocab\n",
    "# 글자 전처리를 위한 import\n",
    "from torchtext.data.utils import get_tokenizer\n",
    "import pandas as pd\n",
    "import os\n",
    "import importlib.util\n",
    "import pickle\n",
    "\n",
    "# 모듈을 동적으로 불러오는 함수\n",
    "def load_module_from_path(path):\n",
    "    module_name = os.path.splitext(os.path.basename(path))[0]\n",
    "    spec = importlib.util.spec_from_file_location(module_name, path)\n",
    "    module = importlib.util.module_from_spec(spec)\n",
    "    spec.loader.exec_module(module)\n",
    "    return module\n",
    "\n",
    "# 파일 경로 설정\n",
    "preProcessing_path = \"preProcessing/sentiment.py\"\n",
    "attention_path = \"model_class/Attention.py\"\n",
    "lstm_path = \"model_class/LSTMModel.py\"\n",
    "\n",
    "# 각 파일 모듈 불러오기\n",
    "preProcessing = load_module_from_path(preProcessing_path)\n",
    "Attention = load_module_from_path(attention_path)\n",
    "LSTMModel = load_module_from_path(lstm_path)\n",
    "\n",
    "# kaggle 넷플릭스 리뷰\n",
    "data = pd.read_csv(\"data/netflix_reviews.csv\")\n",
    "\n",
    "# 저장된 단어집 가져오기\n",
    "with open(\"data/vocab.pkl\", \"rb\") as f:\n",
    "    stoi = pickle.load(f)"
   ]
  },
  {
   "cell_type": "markdown",
   "id": "25f63e1e-3f3c-4e9e-9710-3b7f5b9859a0",
   "metadata": {},
   "source": [
    "2. 함수 불러오기 및 파이프 파인 함수 정의"
   ]
  },
  {
   "cell_type": "code",
   "execution_count": 34,
   "id": "6a7ee71a-e174-43e1-b89a-06093e5eb775",
   "metadata": {},
   "outputs": [],
   "source": [
    "train_reviews = preProcessing.getSentimentTrainReviews(data)\n",
    "tokenizer = get_tokenizer('basic_english')\n",
    "vocab = Vocab(stoi)\n",
    "\n",
    "def text_pipeline(text):\n",
    "    return [vocab[token] for token in tokenizer(text)]\n",
    "\n",
    "def label_pipeline(label):\n",
    "    return int(label)"
   ]
  },
  {
   "cell_type": "markdown",
   "id": "6821de35-df68-4f62-b5fd-f7228d6b231d",
   "metadata": {},
   "source": [
    "3. 기본 LSTM 모델 정의"
   ]
  },
  {
   "cell_type": "code",
   "execution_count": 35,
   "id": "4a3eb444-04d5-4bde-90d2-5947004bd5b6",
   "metadata": {},
   "outputs": [],
   "source": [
    "# 하이퍼파라미터 수정\n",
    "VOCAB_SIZE = len(vocab)\n",
    "EMBED_DIM = 64  \n",
    "HIDDEN_DIM = 128  \n",
    "OUTPUT_DIM = 3\n",
    "NUM_EPOCHS = 100\n",
    "LABEL_SMOOTHING = 0.05\n",
    "\n",
    "model_in_path =  LSTMModel.LSTMModel(VOCAB_SIZE, EMBED_DIM, HIDDEN_DIM, OUTPUT_DIM)\n",
    "\n",
    "\n",
    "# 손실 함수와 옵티마이저 정의\n",
    "# 라벨 스무딩을 이용하여 모델의 일반화 성능을 향상시킴 (평점이 리뷰와 안맞는 케이스 완화)\n",
    "criterion = nn.CrossEntropyLoss(label_smoothing=LABEL_SMOOTHING)\n",
    "optimizer = optim.Adam(model_in_path.parameters(), lr=0.01)"
   ]
  },
  {
   "cell_type": "markdown",
   "id": "e4b992dd-4d45-4a5c-ab69-6c8a99c27025",
   "metadata": {},
   "source": [
    "4. 미리 학습된 모델 가져와 load"
   ]
  },
  {
   "cell_type": "code",
   "execution_count": 37,
   "id": "5f20ab21-4dbf-4045-ae2f-862b7b250068",
   "metadata": {},
   "outputs": [
    {
     "data": {
      "text/plain": [
       "<All keys matched successfully>"
      ]
     },
     "execution_count": 37,
     "metadata": {},
     "output_type": "execute_result"
    }
   ],
   "source": [
    "save_path = \"lstm_sentiment_model_vocab.pth\"\n",
    "checkpoint = torch.load(save_path)\n",
    "model_in_path.load_state_dict(checkpoint['model_state_dict'])"
   ]
  },
  {
   "cell_type": "markdown",
   "id": "d8454ab4-ebf9-4270-ade9-d41ca41921e5",
   "metadata": {},
   "source": [
    "5. 예측 함수 정의"
   ]
  },
  {
   "cell_type": "code",
   "execution_count": 38,
   "id": "851feb2b",
   "metadata": {},
   "outputs": [],
   "source": [
    "# 예측 함수(예시)\n",
    "def predict_review(model, review):\n",
    "    model.eval()\n",
    "    with torch.no_grad():\n",
    "        tensor_review = torch.tensor(text_pipeline(review), dtype=torch.long).unsqueeze(0)\n",
    "        output = model(tensor_review)\n",
    "        prediction =output.argmax(dim=1).item()\n",
    "        return prediction"
   ]
  },
  {
   "cell_type": "markdown",
   "id": "7115aa33-6fd4-4ab2-88db-22f38aa82aa0",
   "metadata": {},
   "source": [
    "6. 예측 진행"
   ]
  },
  {
   "cell_type": "code",
   "execution_count": 39,
   "id": "728c7ce7",
   "metadata": {},
   "outputs": [
    {
     "name": "stdout",
     "output_type": "stream",
     "text": [
      "Predicted Score: 2\n"
     ]
    }
   ],
   "source": [
    "# 새로운 리뷰에 대한 예측\n",
    "new_review = \"This app is good but there are some critical bugs\"\n",
    "predicted_score = predict_review(model_in_path, new_review)\n",
    "print(f'Predicted Score: {predicted_score}')"
   ]
  },
  {
   "cell_type": "code",
   "execution_count": 40,
   "id": "1427a3fb-2137-4086-8381-5518cf870b7c",
   "metadata": {},
   "outputs": [
    {
     "name": "stdout",
     "output_type": "stream",
     "text": [
      "Predicted Score: 0\n"
     ]
    }
   ],
   "source": [
    "# 새로운 리뷰에 대한 예측\n",
    "new_review = \"I have little disappointed about this app\"\n",
    "predicted_score = predict_review(model_in_path, new_review)\n",
    "print(f'Predicted Score: {predicted_score}')"
   ]
  },
  {
   "cell_type": "code",
   "execution_count": 41,
   "id": "a8de4e8c-4456-4fdf-a8d5-585191f1d54b",
   "metadata": {},
   "outputs": [
    {
     "name": "stdout",
     "output_type": "stream",
     "text": [
      "Predicted Score: 2\n"
     ]
    }
   ],
   "source": [
    "# 새로운 리뷰에 대한 예측\n",
    "new_review = \"So great\"\n",
    "predicted_score = predict_review(model_in_path, new_review)\n",
    "print(f'Predicted Score: {predicted_score}')"
   ]
  },
  {
   "cell_type": "code",
   "execution_count": 42,
   "id": "e2252289-3563-4d04-8065-2cf50cf26c15",
   "metadata": {},
   "outputs": [
    {
     "name": "stdout",
     "output_type": "stream",
     "text": [
      "Predicted Score: 0\n"
     ]
    }
   ],
   "source": [
    "new_review = \"So Awful\"\n",
    "predicted_score = predict_review(model_in_path, new_review)\n",
    "print(f'Predicted Score: {predicted_score}')"
   ]
  }
 ],
 "metadata": {
  "kernelspec": {
   "display_name": "Python (dipLearning)",
   "language": "python",
   "name": "diplearning"
  },
  "language_info": {
   "codemirror_mode": {
    "name": "ipython",
    "version": 3
   },
   "file_extension": ".py",
   "mimetype": "text/x-python",
   "name": "python",
   "nbconvert_exporter": "python",
   "pygments_lexer": "ipython3",
   "version": "3.12.7"
  }
 },
 "nbformat": 4,
 "nbformat_minor": 5
}
